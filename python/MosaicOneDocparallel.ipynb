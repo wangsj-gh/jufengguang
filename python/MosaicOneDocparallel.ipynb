{
 "cells": [
  {
   "cell_type": "code",
   "execution_count": 2,
   "id": "fff33cb4",
   "metadata": {},
   "outputs": [],
   "source": [
    "from osgeo import gdal\n",
    "import os\n",
    "import glob\n",
    "import math\n",
    "import time\n",
    "import numpy as np\n",
    "from concurrent.futures import ThreadPoolExecutor, ProcessPoolExecutor\n",
    "import multiprocessing as mp"
   ]
  },
  {
   "cell_type": "code",
   "execution_count": 2,
   "id": "e6b18f86",
   "metadata": {},
   "outputs": [],
   "source": [
    "def GetExtent(in_fn):\n",
    "    ds=gdal.Open(in_fn)\n",
    "    geotrans=list(ds.GetGeoTransform())\n",
    "    xsize=ds.RasterXSize \n",
    "    ysize=ds.RasterYSize\n",
    "    min_x=geotrans[0]\n",
    "    max_y=geotrans[3]\n",
    "    max_x=geotrans[0]+xsize*geotrans[1]\n",
    "    min_y=geotrans[3]+ysize*geotrans[5]\n",
    "    ds=None\n",
    "    return min_x,max_y,max_x,min_y"
   ]
  },
  {
   "cell_type": "code",
   "execution_count": 3,
   "id": "1c27c4c0",
   "metadata": {},
   "outputs": [],
   "source": [
    "def GetTransform(in_files):\n",
    "    min_x,max_y,max_x,min_y=GetExtent(in_files[0])\n",
    "    for in_fn in in_files[1:]:\n",
    "        minx,maxy,maxx,miny=GetExtent(in_fn)\n",
    "        min_x=min(min_x,minx)\n",
    "        max_y=max(max_y,maxy)\n",
    "        max_x=max(max_x,maxx)\n",
    "        min_y=min(min_y,miny)\n",
    "    return min_x,max_y,max_x,min_y"
   ]
  },
  {
   "cell_type": "code",
   "execution_count": 4,
   "id": "91f8d8dd",
   "metadata": {},
   "outputs": [],
   "source": [
    "def GetData(in_filename):\n",
    "    # in_filename=dataset[0]\n",
    "    # inv_geotrans=dataset[1]\n",
    "    in_ds=gdal.Open(in_filename)\n",
    "    geotrans=in_ds.GetGeoTransform()\n",
    "    #仿射逆变换\n",
    "    # inv_geotrans=gdal.InvGeoTransform(geotrans)\n",
    "    offset=gdal.ApplyGeoTransform(inv_geotrans,geotrans[0],geotrans[3])\n",
    "    x,y=map(int,offset)\n",
    "    resul=[]\n",
    "    # x=np.ceil(abs(geotrans[0]-min_x)/abs(geotrans[1]))\n",
    "    # y=np.ceil(abs(geotrans[3]-max_y)/abs(geotrans[5]))\n",
    "\n",
    "    data=in_ds.ReadAsArray()\n",
    "    resul.append(abs(x))\n",
    "    resul.append(abs(y))\n",
    "    resul.append(data)\n",
    "\n",
    "    return resul"
   ]
  },
  {
   "cell_type": "code",
   "execution_count": 5,
   "id": "5c90cf0a",
   "metadata": {},
   "outputs": [],
   "source": [
    "def getTifInform(in_files):\n",
    "    in_ds=gdal.Open(in_files[0])\n",
    "    geotrans=in_ds.GetGeoTransform()\n",
    "    Projection=in_ds.GetProjection()\n",
    "    countbands=in_ds.RasterCount\n",
    "\n",
    "    inv_geotrans=gdal.InvGeoTransform(geotrans)\n",
    "    min_x,max_y,max_x,min_y=GetTransform(in_files)\n",
    "    columns=np.ceil(abs(max_x-min_x)/abs(geotrans[1]))\n",
    "    rows=np.ceil(abs(min_y-max_y)/abs(geotrans[5]))\n",
    "    newgeotrans=list(geotrans)\n",
    "    newgeotrans[0]=min_x\n",
    "    newgeotrans[3]=max_y\n",
    "    return int(columns),int(rows),countbands,Projection,newgeotrans,inv_geotrans\n",
    "\n"
   ]
  },
  {
   "cell_type": "code",
   "execution_count": 6,
   "id": "84c18d34",
   "metadata": {},
   "outputs": [],
   "source": [
    "# path=r\"/data/appdata/lai_param_TwoCycle_mask/2000\"\n",
    "path=r\"../landcover\"\n",
    "os.chdir(path)      \n",
    "in_files=glob.glob(\"*.tif\")#得到该目录下所有的影像名"
   ]
  },
  {
   "cell_type": "code",
   "execution_count": 7,
   "id": "1470999d",
   "metadata": {},
   "outputs": [],
   "source": [
    "min_x,max_y,max_x,min_y=GetTransform(in_files)\n",
    "# print(min_x,max_y,max_x,min_y)"
   ]
  },
  {
   "cell_type": "code",
   "execution_count": 8,
   "id": "00ab5c91",
   "metadata": {},
   "outputs": [],
   "source": [
    "columns,rows,count,Projection,newgeotrans,inv_geotrans=getTifInform(in_files)\n",
    "# print(count,columns,rows,Projection,newgeotrans,inv_geotrans)"
   ]
  },
  {
   "cell_type": "code",
   "execution_count": 9,
   "id": "3fd23c34",
   "metadata": {},
   "outputs": [],
   "source": [
    "# list_geotrans=np.tile(list(inv_geotrans),(len(in_files),1))\n",
    "# input_data=list(zip(in_files,list_geotrans))"
   ]
  },
  {
   "cell_type": "code",
   "execution_count": 10,
   "id": "753c15fe",
   "metadata": {},
   "outputs": [],
   "source": [
    "pool = ThreadPoolExecutor(max_workers=2)\n",
    "result=list(pool.map(GetData,in_files))\n",
    "pool.shutdown(wait=True)"
   ]
  },
  {
   "cell_type": "code",
   "execution_count": 14,
   "metadata": {},
   "outputs": [
    {
     "data": {
      "text/plain": [
       "(40076, 65536)"
      ]
     },
     "execution_count": 14,
     "metadata": {},
     "output_type": "execute_result"
    }
   ],
   "source": [
    "result[0][2].shape"
   ]
  },
  {
   "cell_type": "code",
   "execution_count": 11,
   "id": "0e3db631",
   "metadata": {},
   "outputs": [
    {
     "data": {
      "text/plain": [
       "0"
      ]
     },
     "execution_count": 11,
     "metadata": {},
     "output_type": "execute_result"
    }
   ],
   "source": [
    "# name=\"/data/users/wangsj/dataset/LaiParamTwoCycle_2000\"\n",
    "name=\"../landcover/test\"\n",
    "out_ds=gdal.GetDriverByName('GTiff').Create(name,columns,rows,count,gdal.GDT_Float32)\n",
    "out_ds.SetProjection(Projection)\n",
    "out_ds.SetGeoTransform(newgeotrans)"
   ]
  },
  {
   "cell_type": "code",
   "execution_count": 15,
   "id": "1cb5adee",
   "metadata": {},
   "outputs": [
    {
     "name": "stdout",
     "output_type": "stream",
     "text": [
      "0 0\n",
      "65536 0\n"
     ]
    }
   ],
   "source": [
    "for j in range(len(in_files)):\n",
    "    data=result[j]\n",
    "    x=data[0]\n",
    "    y=data[1]\n",
    "    dataset=data[2]\n",
    "    print(x,y)\n",
    "    for i in range(count):\n",
    "        out_ds.GetRasterBand(i+1).WriteArray(dataset[:,:],x,y)\n",
    "out_ds.FlushCache()  # 将数据写入硬盘\n",
    "out_ds = None"
   ]
  }
 ],
 "metadata": {
  "interpreter": {
   "hash": "ab7d1462df2e30fb8fb5e65493c4d318dbafe2cd7900775391388562a2cba4b6"
  },
  "kernelspec": {
   "display_name": "Python 3.7.11 ('base')",
   "language": "python",
   "name": "python3"
  },
  "language_info": {
   "codemirror_mode": {
    "name": "ipython",
    "version": 3
   },
   "file_extension": ".py",
   "mimetype": "text/x-python",
   "name": "python",
   "nbconvert_exporter": "python",
   "pygments_lexer": "ipython3",
   "version": "3.7.12"
  },
  "orig_nbformat": 4
 },
 "nbformat": 4,
 "nbformat_minor": 2
}
