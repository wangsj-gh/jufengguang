{
 "cells": [
  {
   "cell_type": "code",
   "execution_count": 6,
   "id": "0111ed66",
   "metadata": {},
   "outputs": [],
   "source": [
    "import numpy as np\n",
    "import pandas as pd\n",
    "from osgeo import gdal\n",
    "from osgeo import ogr\n",
    "import os"
   ]
  },
  {
   "cell_type": "markdown",
   "id": "fc2bebe4",
   "metadata": {},
   "source": [
    "##tif转nc"
   ]
  },
  {
   "cell_type": "code",
   "execution_count": 2,
   "id": "d6a08594",
   "metadata": {},
   "outputs": [],
   "source": [
    "inputfile = 'D:\\LAI_fitting_param\\CI_2007.tif'\n",
    "outputfile = 'D:\\LAI_fitting_param\\CI_2007.nc'\n",
    "#Do not change this line, the following command will convert the geoTIFF to a netCDF\n",
    "ds = gdal.Translate(outputfile, inputfile, format='NetCDF')"
   ]
  },
  {
   "cell_type": "markdown",
   "id": "aaf4989c",
   "metadata": {},
   "source": [
    "##栅格矢量化"
   ]
  },
  {
   "cell_type": "code",
   "execution_count": 9,
   "id": "f4d3293d",
   "metadata": {},
   "outputs": [],
   "source": [
    "def PolygonizeTheRaster():\n",
    "    inputfile = r'../dataGdals/landcover_2007_gdals.tif'\n",
    "    ds = gdal.Open(inputfile, gdal.GA_ReadOnly)\n",
    "    srcband=ds.GetRasterBand(1)\n",
    "    maskband=srcband.GetMaskBand()\n",
    "    dst_filename='../dataGdals/landcover_2007_gdals.shp'\n",
    "    drv = ogr.GetDriverByName('ESRI Shapefile')\n",
    "    dst_ds = drv.CreateDataSource(dst_filename)\n",
    "    srs = None\n",
    "    dst_layername = 'out'\n",
    "    dst_layer = dst_ds.CreateLayer(dst_layername, srs=srs)\n",
    "    dst_fieldname = 'DN'\n",
    "    fd = ogr.FieldDefn(dst_fieldname, ogr.OFTInteger)\n",
    "    dst_layer.CreateField(fd)\n",
    "    dst_field = 0\n",
    "    # prog_func =test()\n",
    "    options=[]\n",
    "    # 参数  输入栅格图像波段\\掩码图像波段、矢量化后的矢量图层、需要将DN值写入矢量字段的索引、算法选项、进度条回调函数、进度条参数\n",
    "    gdal.Polygonize(srcband, maskband, dst_layer,dst_field, options,callback=0)\n",
    "PolygonizeTheRaster()"
   ]
  },
  {
   "cell_type": "markdown",
   "id": "9d93d283",
   "metadata": {},
   "source": [
    "##矢量栅格化"
   ]
  },
  {
   "cell_type": "code",
   "execution_count": null,
   "id": "abb7679e",
   "metadata": {},
   "outputs": [],
   "source": [
    "def RasterzeTheVectorToRasterr():\n",
    "    print(\"lets gogogogo\")\n",
    "    # 参数说明： 输出的栅格数据，注意该数据必须以update模式打开、指定要更新的波段个数(更新123波段)、指定的图层、几何图形坐标转换图像行列号函数、几何图形坐标转换图像行列号参数、以及图层中属性字段属性值\n",
    "    inputfilePath='G:/studyprojects/gdal/GdalStudy/Files/plogon/test.shp'\n",
    "    outputfile='G:/studyprojects/gdal/GdalStudy/Files/images/vector.tif'\n",
    "    templetefile='G:/studyprojects/gdal/GdalStudy/Files/images/2016CHA.tif'\n",
    "    data = gdal.Open(templetefile, gdalconst.GA_ReadOnly)\n",
    "    x_res = data.RasterXSize\n",
    "    y_res = data.RasterYSize\n",
    "    vector = ogr.Open(inputfilePath)\n",
    "    layer = vector.GetLayer()\n",
    "    targetDataSet = gdal.GetDriverByName('GTiff').Create(outputfile, x_res, y_res, 3, gdal.GDT_Byte)\n",
    "    #targetDataSet=gdal.GetDriverByName('GTiff').CreateCopy(templetefile,data)\n",
    "    targetDataSet.SetGeoTransform(data.GetGeoTransform())\n",
    "    targetDataSet.SetProjection(data.GetProjection())\n",
    "    band = targetDataSet.GetRasterBand(1)\n",
    "    NoData_value = -999\n",
    "    band.SetNoDataValue(NoData_value)\n",
    "    band.FlushCache()\n",
    "    gdal.RasterizeLayer(targetDataSet, [1,2,3], layer, options=[\"ATTRIBUTE=DN\"])\n"
   ]
  }
 ],
 "metadata": {
  "hide_input": false,
  "kernelspec": {
   "display_name": "Python 3 (ipykernel)",
   "language": "python",
   "name": "python3"
  },
  "language_info": {
   "codemirror_mode": {
    "name": "ipython",
    "version": 3
   },
   "file_extension": ".py",
   "mimetype": "text/x-python",
   "name": "python",
   "nbconvert_exporter": "python",
   "pygments_lexer": "ipython3",
   "version": "3.7.12"
  },
  "toc": {
   "base_numbering": 1,
   "nav_menu": {},
   "number_sections": true,
   "sideBar": true,
   "skip_h1_title": false,
   "title_cell": "Table of Contents",
   "title_sidebar": "Contents",
   "toc_cell": false,
   "toc_position": {},
   "toc_section_display": true,
   "toc_window_display": false
  }
 },
 "nbformat": 4,
 "nbformat_minor": 5
}
