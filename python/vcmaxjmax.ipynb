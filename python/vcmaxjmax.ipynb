{
 "cells": [
  {
   "cell_type": "code",
   "execution_count": 1,
   "metadata": {},
   "outputs": [
    {
     "name": "stdout",
     "output_type": "stream",
     "text": [
      "0.0096 0.0192\n",
      "29.725754446902286 68.5453674230971 14.862877223451143 34.27268371154855\n"
     ]
    }
   ],
   "source": [
    "import numpy as np\n",
    "\n",
    "CNr = 42  #gC/gN. C:N of leaves\n",
    "Flnr = 0.04 #gN in Rubisco / gN. Fraction of leaf N in Rubisco\n",
    "SLA_total = 0.012  #m2/gC. \n",
    "SLA_ratio = 2 #ratio of shaded SLA : sunlit SLA  #BGC\n",
    "\n",
    "Tleaf = 20\n",
    "LAI = 2.5\n",
    "LAI_sun = 1.5 \n",
    "LAI_shade = 1\n",
    "\n",
    "def VcmaxJmax (SLA):\n",
    "    '''\n",
    "    #BGC\n",
    "    if (Tleaf > 15):\n",
    "        ACT = ACT25 * Q10_ACT  ** ((Tleaf - 25.0) / 10.0)\n",
    "    else:\n",
    "        ACT= ACT25 * ((1.8 * Q10_ACT) ** ((Tleaf - 15.0) / 10.0)) / Q10_ACT\n",
    "    Vcmax = Nleaf * Flnr * Frn * ACT\n",
    "    Jmax = 2.1 * Vcmax\n",
    "    '''\n",
    "    '''\n",
    "    #Ours Model\n",
    "    Rgas = 8.314  # ideal gas constant(J.K-1.mol-1)\n",
    "    Vcmax25 = 62.5  # umol.m-2.s-1  (per leaf area)(CLM4.5)\n",
    "    Jmax25 = 95.49  # umol.m-2.s-1  (per leaf area)\n",
    "    EaV = 65330  # J.mol-1  (CLM4.5)\n",
    "    EaJ = 43540\n",
    "    T_Vcmax = np.exp(EaV * ((Tleaf + 273.15) - 298) / (298 * Rgas * (Tleaf + 273.15)))\n",
    "    Vcmax = Vcmax25 * T_Vcmax\n",
    "    T_Jmax = np.exp(EaJ * ((Tleaf + 273.15) - 298) / (298 * Rgas * (Tleaf + 273.15)))\n",
    "    Jmax = Jmax25 * T_Jmax\n",
    "    '''\n",
    "    #CLM4.5\n",
    "    Rgas = 8.314\n",
    "    Frn = 7.16  #gRubisco/gN in Rubisco.\n",
    "    ACT25 = 60 #umolCO2/gRubisco/s\n",
    "    Q10_ACT = 2.4\n",
    "    dha_vcmax =65330\n",
    "    dha_jmax =43540\n",
    "    ds_vcmax = 485\n",
    "    ds_jmax = 495\n",
    "    dhd_vcmax = 149250\n",
    "    dhd_jmax = 152040\n",
    "    Nleaf = 1 / CNr / SLA\n",
    "    Vcmax25 = Nleaf * Flnr * Frn * ACT25\n",
    "    Jmax25 = 1.97 * Vcmax25\n",
    "    ft_vcmax = np.exp(dha_vcmax * (1 - 298.15 / (Tleaf + 273.15)) / (298.15 * Rgas))\n",
    "    fht_vcmax = (1 + np.exp((298.15 * ds_vcmax - dhd_vcmax) / (298.15 * Rgas))) / (1 + np.exp((ds_vcmax * (Tleaf + 273.15) - dhd_vcmax) / (Rgas * (Tleaf + 273.15))))\n",
    "    ft_jmax = np.exp(dha_jmax * (1 - 298.15 / (Tleaf + 273.15)) / (298.15 * Rgas))\n",
    "    fht_jmax = (1 + np.exp((298.15 * ds_jmax - dhd_jmax) / (298.15 * Rgas))) / (1 + np.exp((ds_jmax * (Tleaf + 273.15) - dhd_jmax) / (Rgas * (Tleaf + 273.15))))\n",
    "    Vcmax = Vcmax25 * ft_vcmax * fht_vcmax\n",
    "    Jmax = Jmax25 * ft_jmax * fht_jmax\n",
    "    return Vcmax, Jmax\n",
    "\n",
    "SLA_sun = (LAI_sun + LAI_shade / SLA_ratio) / (LAI / SLA_total)\n",
    "SLA_shade = SLA_sun * SLA_ratio\n",
    "print(SLA_sun, SLA_shade)\n",
    "Vcmax_sun, Jmax_sun = VcmaxJmax (SLA_sun)\n",
    "Vcmax_shade, Jmax_shade = VcmaxJmax (SLA_shade)\n",
    "print(Vcmax_sun, Jmax_sun, Vcmax_shade, Jmax_shade)"
   ]
  },
  {
   "cell_type": "code",
   "execution_count": null,
   "metadata": {},
   "outputs": [],
   "source": []
  }
 ],
 "metadata": {
  "interpreter": {
   "hash": "ab7d1462df2e30fb8fb5e65493c4d318dbafe2cd7900775391388562a2cba4b6"
  },
  "kernelspec": {
   "display_name": "Python 3.7.13 ('base')",
   "language": "python",
   "name": "python3"
  },
  "language_info": {
   "codemirror_mode": {
    "name": "ipython",
    "version": 3
   },
   "file_extension": ".py",
   "mimetype": "text/x-python",
   "name": "python",
   "nbconvert_exporter": "python",
   "pygments_lexer": "ipython3",
   "version": "3.7.13"
  },
  "orig_nbformat": 4
 },
 "nbformat": 4,
 "nbformat_minor": 2
}
